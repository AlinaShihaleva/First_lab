{
  "nbformat": 4,
  "nbformat_minor": 0,
  "metadata": {
    "colab": {
      "provenance": []
    },
    "kernelspec": {
      "name": "python3",
      "display_name": "Python 3"
    },
    "language_info": {
      "name": "python"
    }
  },
  "cells": [
    {
      "cell_type": "markdown",
      "source": [
        "#Пример использования Markdown\n",
        "##Состав бригады:\n",
        "1. Денисова\n",
        "1. Шихалева\n",
        "1. Мирошкина\n",
        "\n",
        "###Рисунок\n",
        "![Текст с описанием картинки](https://avatars.mds.yandex.net/get-images-cbir/9624473/WJBseMGPUYosqYyEayErQg8345/ocr)\n",
        "\n",
        "###Таблица\n",
        "\n",
        "Номер | Буква | Цвет \n",
        "--- | --- | ---\n",
        "1      | А | Красный\n",
        "2       | Б | Синий\n",
        "\n",
        "###Ссылка - [сайт нгту](https://www.nstu.ru/)"
      ],
      "metadata": {
        "id": "t6Rv9fEEjEdb"
      }
    }
  ]
}
